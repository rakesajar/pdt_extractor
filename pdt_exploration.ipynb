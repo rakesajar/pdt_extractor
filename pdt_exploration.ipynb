{
 "cells": [
  {
   "cell_type": "code",
   "execution_count": 36,
   "metadata": {
    "collapsed": true
   },
   "outputs": [
    {
     "name": "stderr",
     "output_type": "stream",
     "text": [
      "2022-03-16 12:40:03 INFO     *** initialize network ***\n"
     ]
    }
   ],
   "source": [
    "import fitz\n",
    "import tner\n",
    "import pandas as pd\n",
    "tner_tagger = tner.TransformersNER('asahi417/tner-xlm-roberta-base-ontonotes5')"
   ]
  },
  {
   "cell_type": "code",
   "execution_count": 49,
   "outputs": [
    {
     "data": {
      "text/plain": "['1048318294708',\n 'Eurofins COVID Testing Services Limited',\n 'Queens Road,',\n 'Teddington,',\n 'Middlesex,',\n 'TW11 0LY,',\n 'UK',\n 'Customer Services +44 (0)1925 980 595, covid19administration@eurofins.co.uk',\n 'Kai Lukas Lau',\n 'Travel testing customer',\n '02 March 2022',\n 'Barcode of sample: COV1105006ACONLFDAG00337815',\n 'Test Report SARS-CoV-2 (COVID-19)',\n 'PATIENT INFORMATION',\n 'Last name:',\n 'Lau',\n 'First name:',\n 'Kai Lukas',\n 'Birth date:',\n '2011-10-07',\n 'Passport:',\n 'K2217817Z',\n 'Gender:',\n 'Male',\n 'Nationality:',\n 'Singapore',\n 'Application ID:',\n '4152458',\n 'HRID/Badge ID:',\n '2202871023cxq',\n 'Sample kit ID:',\n 'COV1105006ACONLFDAG00337815',\n 'Date and time of',\n 'sampling:',\n '2022-02-08 17:02',\n 'Sample received in the',\n 'laboratory:',\n 'Date and time of result',\n 'reporting:',\n 'Yes',\n '2022-02-08 17:26',\n 'Date and time of report',\n 'generation:',\n '2022-03-02 11:26',\n 'TEST',\n 'RESULT',\n 'REFERENCE',\n 'METHOD',\n 'Fit to Fly Antigen Testing -',\n 'Drive Through',\n 'NEGATIVE',\n 'Antigen Rapid',\n 'Test kit used: Healgen® Rapid COVID-19 Antigen Self-Test',\n 'Test specimen used: Anterior nasal',\n 'Your coronavirus (COVID-19) test result is negative. You did not have the virus when the test was done.',\n 'You are not required to self-isolate.',\n 'You should self-isolate again if you get symptoms of coronavirus (COVID-19) - get an NHS coronavirus (COVID-19) test from www.gov.uk/get-coronavirus-test',\n 'and self-isolate until you get the results.',\n 'For advice on when you might need to self-isolate and what to do, go to www.nhs.uk/conditions/coronavirus-covid-19 and read Self-isolation and treating',\n 'symptoms.',\n 'Eurofins COVID Testing Services Limited Registered Office: 154 Business Park, Valiant Way, Wolverhampton, WV9 5GB.',\n 'Registered in England No 13164877 VAT No GB 380102734',\n 'Documentum hash: 3a0147190105f48cf3e41e1d56cab8f66435fb297c915c8a322d174a79f6fc86']"
     },
     "execution_count": 49,
     "metadata": {},
     "output_type": "execute_result"
    }
   ],
   "source": [
    "def get_sentences(document_fname):\n",
    "    document = fitz.open(document_fname)\n",
    "    sentences = []\n",
    "    for page in document:\n",
    "        page_text = page.get_text()\n",
    "        page_sentences = page_text.split(\"\\n\")\n",
    "        page_sentences = [sentence.strip() for sentence in page_sentences]\n",
    "        sentences.extend(page_sentences)\n",
    "    sentences = [sentence.strip() for sentence in sentences if len(sentence.strip())>0]\n",
    "    return sentences\n",
    "fname = \"../PDF/Eurofins 01.pdf\"\n",
    "sentences = get_sentences(fname)\n",
    "sentences"
   ],
   "metadata": {
    "collapsed": false,
    "pycharm": {
     "name": "#%%\n"
    }
   }
  },
  {
   "cell_type": "code",
   "execution_count": 87,
   "outputs": [
    {
     "data": {
      "text/plain": "    SentenceID   EntityType  StartPosition  EndPosition     EntityText  \\\n6            8       PERSON              0           13  Kai Lukas Lau   \n7           10         DATE              0           13  02 March 2022   \n8           15       PERSON              0            3            Lau   \n10          17       PERSON              0            9      Kai Lukas   \n12          19         DATE              0           10     2011-10-07   \n0           23       GENDER              0            4           Male   \n14          34         DATE              0           10     2022-02-08   \n15          34         TIME             11           16          17:02   \n16          40         DATE              0           10     2022-02-08   \n17          40         TIME             11           16          17:26   \n18          43         DATE              0           10     2022-03-02   \n19          43         TIME             11           16          11:26   \n0           50  TEST_RESULT              0            8       Negative   \n0           51    TEST_TYPE              8           14  Rapid Antigen   \n\n    ConfidenceScore  \n6          0.982803  \n7          0.773422  \n8          0.851363  \n10         0.988147  \n12         0.647136  \n0          1.000000  \n14         0.738792  \n15         0.860903  \n16         0.752259  \n17         0.866541  \n18         0.708695  \n19         0.843599  \n0          1.000000  \n0          1.000000  ",
      "text/html": "<div>\n<style scoped>\n    .dataframe tbody tr th:only-of-type {\n        vertical-align: middle;\n    }\n\n    .dataframe tbody tr th {\n        vertical-align: top;\n    }\n\n    .dataframe thead th {\n        text-align: right;\n    }\n</style>\n<table border=\"1\" class=\"dataframe\">\n  <thead>\n    <tr style=\"text-align: right;\">\n      <th></th>\n      <th>SentenceID</th>\n      <th>EntityType</th>\n      <th>StartPosition</th>\n      <th>EndPosition</th>\n      <th>EntityText</th>\n      <th>ConfidenceScore</th>\n    </tr>\n  </thead>\n  <tbody>\n    <tr>\n      <th>6</th>\n      <td>8</td>\n      <td>PERSON</td>\n      <td>0</td>\n      <td>13</td>\n      <td>Kai Lukas Lau</td>\n      <td>0.982803</td>\n    </tr>\n    <tr>\n      <th>7</th>\n      <td>10</td>\n      <td>DATE</td>\n      <td>0</td>\n      <td>13</td>\n      <td>02 March 2022</td>\n      <td>0.773422</td>\n    </tr>\n    <tr>\n      <th>8</th>\n      <td>15</td>\n      <td>PERSON</td>\n      <td>0</td>\n      <td>3</td>\n      <td>Lau</td>\n      <td>0.851363</td>\n    </tr>\n    <tr>\n      <th>10</th>\n      <td>17</td>\n      <td>PERSON</td>\n      <td>0</td>\n      <td>9</td>\n      <td>Kai Lukas</td>\n      <td>0.988147</td>\n    </tr>\n    <tr>\n      <th>12</th>\n      <td>19</td>\n      <td>DATE</td>\n      <td>0</td>\n      <td>10</td>\n      <td>2011-10-07</td>\n      <td>0.647136</td>\n    </tr>\n    <tr>\n      <th>0</th>\n      <td>23</td>\n      <td>GENDER</td>\n      <td>0</td>\n      <td>4</td>\n      <td>Male</td>\n      <td>1.000000</td>\n    </tr>\n    <tr>\n      <th>14</th>\n      <td>34</td>\n      <td>DATE</td>\n      <td>0</td>\n      <td>10</td>\n      <td>2022-02-08</td>\n      <td>0.738792</td>\n    </tr>\n    <tr>\n      <th>15</th>\n      <td>34</td>\n      <td>TIME</td>\n      <td>11</td>\n      <td>16</td>\n      <td>17:02</td>\n      <td>0.860903</td>\n    </tr>\n    <tr>\n      <th>16</th>\n      <td>40</td>\n      <td>DATE</td>\n      <td>0</td>\n      <td>10</td>\n      <td>2022-02-08</td>\n      <td>0.752259</td>\n    </tr>\n    <tr>\n      <th>17</th>\n      <td>40</td>\n      <td>TIME</td>\n      <td>11</td>\n      <td>16</td>\n      <td>17:26</td>\n      <td>0.866541</td>\n    </tr>\n    <tr>\n      <th>18</th>\n      <td>43</td>\n      <td>DATE</td>\n      <td>0</td>\n      <td>10</td>\n      <td>2022-03-02</td>\n      <td>0.708695</td>\n    </tr>\n    <tr>\n      <th>19</th>\n      <td>43</td>\n      <td>TIME</td>\n      <td>11</td>\n      <td>16</td>\n      <td>11:26</td>\n      <td>0.843599</td>\n    </tr>\n    <tr>\n      <th>0</th>\n      <td>50</td>\n      <td>TEST_RESULT</td>\n      <td>0</td>\n      <td>8</td>\n      <td>Negative</td>\n      <td>1.000000</td>\n    </tr>\n    <tr>\n      <th>0</th>\n      <td>51</td>\n      <td>TEST_TYPE</td>\n      <td>8</td>\n      <td>14</td>\n      <td>Rapid Antigen</td>\n      <td>1.000000</td>\n    </tr>\n  </tbody>\n</table>\n</div>"
     },
     "execution_count": 87,
     "metadata": {},
     "output_type": "execute_result"
    }
   ],
   "source": [
    "def get_entities(list_of_strings):\n",
    "    sentence_id, category, start_pos, end_pos, text, confidence_score = [], [], [], [], [], []\n",
    "    for id, sentence in enumerate(list_of_strings):\n",
    "        result = tner_tagger.predict([sentence])[0]['entity']\n",
    "        if len(result)>0:\n",
    "            for item in result:\n",
    "                sentence_id.append(id)\n",
    "                category.append(item['type'])\n",
    "                start_pos.append(item['position'][0])\n",
    "                end_pos.append(item['position'][1])\n",
    "                text.append(item['mention'])\n",
    "                confidence_score.append(item['probability'])\n",
    "    entities = pd.DataFrame({\"SentenceID\": sentence_id, \"EntityType\": category, \"StartPosition\": start_pos, \"EndPosition\": end_pos, \"EntityText\": text, \"ConfidenceScore\": confidence_score})\n",
    "    entities = entities[entities.EntityType.isin([\"person\", \"date\", \"time\"])]\n",
    "    # entities = entities.groupby('SentenceID').agg(\",\".join).reset_index()\n",
    "    # Get Gender\n",
    "    gender_df = get_gender(list_of_strings)\n",
    "    if gender_df is not None:\n",
    "        entities = pd.concat([entities, gender_df])\n",
    "    # Get Test Result\n",
    "    test_result_df = get_test_result(list_of_strings)\n",
    "    if test_result_df is not None:\n",
    "        entities = pd.concat([entities, test_result_df])\n",
    "    # Get Test Type\n",
    "    test_type_df = get_test_type(list_of_strings)\n",
    "    if test_type_df is not None:\n",
    "        entities = pd.concat([entities, test_type_df])\n",
    "    \n",
    "    entities = entities.sort_values(\"SentenceID\")\n",
    "    entities['EntityType'] = entities.EntityType.str.upper()\n",
    "    return entities\n",
    "entities = get_entities(sentences)\n",
    "entities"
   ],
   "metadata": {
    "collapsed": false,
    "pycharm": {
     "name": "#%%\n"
    }
   }
  },
  {
   "cell_type": "code",
   "execution_count": 64,
   "outputs": [
    {
     "data": {
      "text/plain": "   SentenceID EntityType  StartPosition  EndPosition EntityText  \\\n0          23     gender              0            4       Male   \n\n   ConfidenceScore  \n0              1.0  ",
      "text/html": "<div>\n<style scoped>\n    .dataframe tbody tr th:only-of-type {\n        vertical-align: middle;\n    }\n\n    .dataframe tbody tr th {\n        vertical-align: top;\n    }\n\n    .dataframe thead th {\n        text-align: right;\n    }\n</style>\n<table border=\"1\" class=\"dataframe\">\n  <thead>\n    <tr style=\"text-align: right;\">\n      <th></th>\n      <th>SentenceID</th>\n      <th>EntityType</th>\n      <th>StartPosition</th>\n      <th>EndPosition</th>\n      <th>EntityText</th>\n      <th>ConfidenceScore</th>\n    </tr>\n  </thead>\n  <tbody>\n    <tr>\n      <th>0</th>\n      <td>23</td>\n      <td>gender</td>\n      <td>0</td>\n      <td>4</td>\n      <td>Male</td>\n      <td>1.0</td>\n    </tr>\n  </tbody>\n</table>\n</div>"
     },
     "execution_count": 64,
     "metadata": {},
     "output_type": "execute_result"
    }
   ],
   "source": [
    "def get_gender(list_of_strings):\n",
    "    for id, sentence in enumerate(list_of_strings):\n",
    "        list_of_words = sentence.lower().split()\n",
    "        if 'female' in list_of_words:\n",
    "            return pd.DataFrame({\"SentenceID\": [id], \"EntityType\": ['gender'], \"StartPosition\": [sentence.lower().find(\"female\")], \"EndPosition\": [sentence.lower().find(\"female\")+6], \"EntityText\": ['Female'], \"ConfidenceScore\": [1.0]})\n",
    "        if 'male' in list_of_words:\n",
    "            return pd.DataFrame({\"SentenceID\": [id], \"EntityType\": ['gender'], \"StartPosition\": [sentence.lower().find(\"male\")], \"EndPosition\": [sentence.lower().find(\"male\")+4], \"EntityText\": ['Male'], \"ConfidenceScore\": [1.0]})\n",
    "    return None\n",
    "get_gender(sentences)"
   ],
   "metadata": {
    "collapsed": false,
    "pycharm": {
     "name": "#%%\n"
    }
   }
  },
  {
   "cell_type": "code",
   "execution_count": 73,
   "outputs": [
    {
     "data": {
      "text/plain": "   SentenceID   EntityType  StartPosition  EndPosition EntityText  \\\n0          50  test_result              0            8   Negative   \n\n   ConfidenceScore  \n0              1.0  ",
      "text/html": "<div>\n<style scoped>\n    .dataframe tbody tr th:only-of-type {\n        vertical-align: middle;\n    }\n\n    .dataframe tbody tr th {\n        vertical-align: top;\n    }\n\n    .dataframe thead th {\n        text-align: right;\n    }\n</style>\n<table border=\"1\" class=\"dataframe\">\n  <thead>\n    <tr style=\"text-align: right;\">\n      <th></th>\n      <th>SentenceID</th>\n      <th>EntityType</th>\n      <th>StartPosition</th>\n      <th>EndPosition</th>\n      <th>EntityText</th>\n      <th>ConfidenceScore</th>\n    </tr>\n  </thead>\n  <tbody>\n    <tr>\n      <th>0</th>\n      <td>50</td>\n      <td>test_result</td>\n      <td>0</td>\n      <td>8</td>\n      <td>Negative</td>\n      <td>1.0</td>\n    </tr>\n  </tbody>\n</table>\n</div>"
     },
     "execution_count": 73,
     "metadata": {},
     "output_type": "execute_result"
    }
   ],
   "source": [
    "def get_test_result(list_of_strings):\n",
    "    for id, sentence in enumerate(list_of_strings):\n",
    "        filtered_sentence = ''.join(filter(str.isalpha, sentence))\n",
    "        if 'negative' in filtered_sentence.lower():\n",
    "            return pd.DataFrame({\"SentenceID\": [id], \"EntityType\": ['test_result'], \"StartPosition\": [sentence.lower().find(\"negative\")], \"EndPosition\": [sentence.lower().find(\"negative\")+8], \"EntityText\": ['Negative'], \"ConfidenceScore\": [1.0]})\n",
    "        if 'positive' in filtered_sentence.lower():\n",
    "            return pd.DataFrame({\"SentenceID\": [id], \"EntityType\": ['test_result'], \"StartPosition\": [sentence.lower().find(\"positive\")], \"EndPosition\": [sentence.lower().find(\"positive\")+8], \"EntityText\": ['Positive'], \"ConfidenceScore\": [1.0]})\n",
    "    return None\n",
    "get_test_result(sentences)"
   ],
   "metadata": {
    "collapsed": false,
    "pycharm": {
     "name": "#%%\n"
    }
   }
  },
  {
   "cell_type": "code",
   "execution_count": 82,
   "outputs": [
    {
     "data": {
      "text/plain": "   SentenceID EntityType  StartPosition  EndPosition     EntityText  \\\n0          51  test_type              8           14  Rapid Antigen   \n\n   ConfidenceScore  \n0              1.0  ",
      "text/html": "<div>\n<style scoped>\n    .dataframe tbody tr th:only-of-type {\n        vertical-align: middle;\n    }\n\n    .dataframe tbody tr th {\n        vertical-align: top;\n    }\n\n    .dataframe thead th {\n        text-align: right;\n    }\n</style>\n<table border=\"1\" class=\"dataframe\">\n  <thead>\n    <tr style=\"text-align: right;\">\n      <th></th>\n      <th>SentenceID</th>\n      <th>EntityType</th>\n      <th>StartPosition</th>\n      <th>EndPosition</th>\n      <th>EntityText</th>\n      <th>ConfidenceScore</th>\n    </tr>\n  </thead>\n  <tbody>\n    <tr>\n      <th>0</th>\n      <td>51</td>\n      <td>test_type</td>\n      <td>8</td>\n      <td>14</td>\n      <td>Rapid Antigen</td>\n      <td>1.0</td>\n    </tr>\n  </tbody>\n</table>\n</div>"
     },
     "execution_count": 82,
     "metadata": {},
     "output_type": "execute_result"
    }
   ],
   "source": [
    "def get_test_type(list_of_strings):\n",
    "    for id, sentence in enumerate(list_of_strings):\n",
    "        filtered_sentence = ''.join(filter(str.isalpha, sentence))\n",
    "        filtered_sentence = filtered_sentence.lower()\n",
    "        if 'rtpcr' in filtered_sentence:\n",
    "            return pd.DataFrame({\"SentenceID\": [id], \"EntityType\": ['test_type'], \"StartPosition\": [sentence.lower().find(\"rt\")], \"EndPosition\": [sentence.lower().find(\"rt\")+6], \"EntityText\": ['RT-PCR'], \"ConfidenceScore\": [1.0]})\n",
    "        if 'pcr' in filtered_sentence:\n",
    "            return pd.DataFrame({\"SentenceID\": [id], \"EntityType\": ['test_type'], \"StartPosition\": [sentence.lower().find(\"pcr\")], \"EndPosition\": [sentence.lower().find(\"pcr\")+6], \"EntityText\": ['PCR'], \"ConfidenceScore\": [1.0]})\n",
    "        if 'rapid' in filtered_sentence:\n",
    "            if 'antigen' in filtered_sentence:\n",
    "                return pd.DataFrame({\"SentenceID\": [id], \"EntityType\": ['test_type'], \"StartPosition\": [sentence.lower().find(\"rapid\")], \"EndPosition\": [sentence.lower().find(\"rapid\")+6], \"EntityText\": ['Rapid Antigen'], \"ConfidenceScore\": [1.0]})\n",
    "    return None\n",
    "get_test_type(sentences)"
   ],
   "metadata": {
    "collapsed": false,
    "pycharm": {
     "name": "#%%\n"
    }
   }
  },
  {
   "cell_type": "code",
   "execution_count": 58,
   "outputs": [],
   "source": [
    "def extract_info(sentences):\n",
    "    name, gender, collection, specimen, test_type, result = None, None, None, None, None, None\n",
    "    for sentence in sentences:\n",
    "        if sentence.lower().startswith(\"name:\"):\n",
    "            if not name:\n",
    "                name = sentence.lower().split(\"name:\")[-1].upper().strip()\n",
    "        if not gender:\n",
    "            if 'female' in sentence.lower().split():\n",
    "                gender = 'FEMALE'\n",
    "            elif 'male' in sentence.lower().split():\n",
    "                gender = 'MALE'\n",
    "        if not result:\n",
    "            if 'negative' in sentence.lower().split():\n",
    "                result = 'NEGATIVE'\n",
    "            if '(negative)' in sentence.lower().split():\n",
    "                result = 'NEGATIVE'\n",
    "            if 'positive' in sentence.lower().split():\n",
    "                result = 'POSITIVE'\n",
    "            if '(positive)' in sentence.lower().split():\n",
    "                result = 'POSITIVE'\n",
    "        if not specimen:\n",
    "            if 'swab' in sentence.lower():\n",
    "                specimen = sentence.split(\":\")[-1].strip()\n",
    "                specimen = specimen.split(\"swab\")[0].strip() + ' swab'\n",
    "        if not test_type:\n",
    "            if 'rt' in sentence.lower():\n",
    "                if 'pcr' in sentence.lower():\n",
    "                    test_type = 'RT-PCR'\n",
    "            elif 'pcr' in sentence.lower():\n",
    "                test_type = 'PCR'\n",
    "            elif 'rapid' in sentence.lower():\n",
    "                if 'antigen' in sentence.lower():\n",
    "                    test_type = 'RAPID ANTIGEN'\n",
    "        if not collection:\n",
    "            if 'collect' in sentence.lower():\n",
    "                trf_doc = trf(sentence)\n",
    "                candidate_date = [ent.text for ent in trf_doc.ents if ent.label_ == 'DATE']\n",
    "                if candidate_date:\n",
    "                    collection = candidate_date[0]\n",
    "\n",
    "    result = {'Name': name,\n",
    "              'Gender': gender,\n",
    "              'Specimen': specimen,\n",
    "              'Collection Date/Time': collection,\n",
    "              'Test Type': test_type,\n",
    "              'Result': result}\n",
    "    return result\n"
   ],
   "metadata": {
    "collapsed": false,
    "pycharm": {
     "name": "#%%\n"
    }
   }
  }
 ],
 "metadata": {
  "kernelspec": {
   "display_name": "Python 3",
   "language": "python",
   "name": "python3"
  },
  "language_info": {
   "codemirror_mode": {
    "name": "ipython",
    "version": 2
   },
   "file_extension": ".py",
   "mimetype": "text/x-python",
   "name": "python",
   "nbconvert_exporter": "python",
   "pygments_lexer": "ipython2",
   "version": "2.7.6"
  }
 },
 "nbformat": 4,
 "nbformat_minor": 0
}